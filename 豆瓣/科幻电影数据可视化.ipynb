{
 "cells": [
  {
   "cell_type": "code",
   "outputs": [],
   "source": [
    "import pandas as pd\n",
    "from matplotlib import pyplot as plt\n",
    "import numpy as np\n",
    "\n",
    "# 配置环境\n",
    "plt.style.use('seaborn-v0_8')  # 使用seaborn风格\n",
    "plt.rcParams['font.sans-serif'] = ['SimHei']  # 使用黑体\n",
    "plt.rcParams['axes.unicode_minus'] = False  # 解决负号显示问题\n",
    "# inline嵌入文件，tk弹出画图窗口\n",
    "%matplotlib tk"
   ],
   "metadata": {
    "collapsed": false,
    "ExecuteTime": {
     "end_time": "2024-03-28T06:24:17.541321Z",
     "start_time": "2024-03-28T06:24:17.535811Z"
    }
   },
   "id": "4486f64fa9bf7664",
   "execution_count": 42
  },
  {
   "cell_type": "code",
   "outputs": [],
   "source": [
    "# 读取文件信息\n",
    "df = pd.read_csv(r'D:\\Study\\Python\\Spiders\\豆瓣\\类型电影数据集\\科幻电影.csv')\n",
    "columns = df.columns\n",
    "# 类别\n",
    "film_type = []\n",
    "for i in df[columns[4]]:\n",
    "    for data in eval(i):\n",
    "        film_type.append(data)\n",
    "\n",
    "# 国家\n",
    "country = []\n",
    "for j in df[columns[5]]:\n",
    "    for data in eval(j):\n",
    "        country.append(data)\n",
    "\n",
    "# 时间\n",
    "time = [int(data.split('-')[0]) for data in df[columns[6]]]\n",
    "# 评价人数\n",
    "vote_count = [int(data) for data in df[columns[7]]]\n",
    "# 演员人数\n",
    "actor_count = [int(data) for data in df[columns[-2]]]"
   ],
   "metadata": {
    "collapsed": false,
    "ExecuteTime": {
     "end_time": "2024-03-28T06:26:09.845211Z",
     "start_time": "2024-03-28T06:26:09.832167Z"
    }
   },
   "id": "aaa06f10a06b7f46",
   "execution_count": 48
  },
  {
   "cell_type": "code",
   "outputs": [],
   "source": [],
   "metadata": {
    "collapsed": false,
    "ExecuteTime": {
     "end_time": "2024-03-28T06:26:10.510296Z",
     "start_time": "2024-03-28T06:26:10.507421Z"
    }
   },
   "id": "135a7d4801ac87da",
   "execution_count": 48
  },
  {
   "cell_type": "code",
   "outputs": [],
   "source": [
    "# 散点图，时间、演员人数、评价人数\n",
    "colors = np.array(actor_count) / 100  # 随机生成颜色值\n",
    "plt.scatter(time, vote_count, c=colors, alpha=0.5, edgecolors='black', cmap='viridis')\n",
    "plt.colorbar(label='演员人数')\n",
    "plt.xlabel('时间')\n",
    "plt.ylabel('评价人数')\n",
    "plt.title('三维散点图');"
   ],
   "metadata": {
    "collapsed": false,
    "ExecuteTime": {
     "end_time": "2024-03-28T06:26:11.104008Z",
     "start_time": "2024-03-28T06:26:11.025054Z"
    }
   },
   "id": "f278dc21aa0cecd7",
   "execution_count": 49
  },
  {
   "cell_type": "code",
   "outputs": [],
   "source": [],
   "metadata": {
    "collapsed": false,
    "ExecuteTime": {
     "end_time": "2024-03-28T06:26:14.065737Z",
     "start_time": "2024-03-28T06:26:14.063028Z"
    }
   },
   "id": "9e551b45f33ca345",
   "execution_count": 49
  },
  {
   "cell_type": "code",
   "outputs": [],
   "source": [
    "# 条形图，类型与数量\n",
    "dict_type = {i: film_type.count(i) for i in film_type}\n",
    "sorted_dict = dict(sorted(dict_type.items(), key=lambda item: item[1], reverse=True))  # 排序\n",
    "count_type = list(sorted_dict.values())\n",
    "name_type = list(sorted_dict.keys())\n",
    "\n",
    "plt.bar(name_type, count_type)\n",
    "plt.xlabel('类型')\n",
    "plt.ylabel('数量')\n",
    "plt.title('类型与数量的条形图');"
   ],
   "metadata": {
    "collapsed": false,
    "ExecuteTime": {
     "end_time": "2024-03-28T06:26:14.579003Z",
     "start_time": "2024-03-28T06:26:14.499078Z"
    }
   },
   "id": "5c88b77964f06a8",
   "execution_count": 50
  },
  {
   "cell_type": "code",
   "outputs": [],
   "source": [],
   "metadata": {
    "collapsed": false,
    "ExecuteTime": {
     "end_time": "2024-03-28T06:24:27.582418Z",
     "start_time": "2024-03-28T06:24:27.579826Z"
    }
   },
   "id": "12b7a85ceb26db78",
   "execution_count": 45
  },
  {
   "cell_type": "code",
   "outputs": [],
   "source": [
    "# 条形图，国家与数量\n",
    "# 读取数据\n",
    "dict_country = {i: country.count(i) for i in country}\n",
    "sorted_dict = dict(sorted(dict_country.items(), key=lambda item: item[1], reverse=True))  # 排序\n",
    "count_type = list(sorted_dict.values())\n",
    "name_type = list(sorted_dict.keys())\n",
    "\n",
    "plt.bar(name_type, count_type)\n",
    "plt.xlabel('国家')\n",
    "plt.xticks(rotation=45)\n",
    "plt.ylabel('数量')\n",
    "plt.title('国家与数量的条形图');"
   ],
   "metadata": {
    "collapsed": false,
    "ExecuteTime": {
     "end_time": "2024-03-28T06:26:34.189626Z",
     "start_time": "2024-03-28T06:26:34.100308Z"
    }
   },
   "id": "bec1b37efb2ebef5",
   "execution_count": 51
  },
  {
   "cell_type": "code",
   "outputs": [],
   "source": [],
   "metadata": {
    "collapsed": false,
    "ExecuteTime": {
     "end_time": "2024-03-28T06:24:52.885764Z",
     "start_time": "2024-03-28T06:24:52.882553Z"
    }
   },
   "id": "f5279a69a9035427",
   "execution_count": 46
  },
  {
   "cell_type": "code",
   "outputs": [],
   "source": [
    "\n",
    "# 条形图，类型与数量\n",
    "dict_type = {i: film_type.count(i) for i in film_type}\n",
    "sorted_dict = dict(sorted(dict_type.items(), key=lambda item: item[1], reverse=True))  # 排序\n",
    "count_type = list(sorted_dict.values())\n",
    "name_type = list(sorted_dict.keys())\n",
    "\n",
    "sns.barplot(x=name_type, y=count_type)\n",
    "plt.xlabel('类型')\n",
    "plt.ylabel('数量')\n",
    "plt.title('类型与数量的条形图')\n",
    "plt.show()"
   ],
   "metadata": {
    "collapsed": false,
    "ExecuteTime": {
     "end_time": "2024-03-28T06:24:53.414005Z",
     "start_time": "2024-03-28T06:24:53.290938Z"
    }
   },
   "id": "40790cd55b18870b",
   "execution_count": 47
  },
  {
   "cell_type": "code",
   "outputs": [],
   "source": [],
   "metadata": {
    "collapsed": false
   },
   "id": "3b07e6fd804cae46"
  }
 ],
 "metadata": {
  "kernelspec": {
   "display_name": "Python 3 (ipykernel)",
   "language": "python",
   "name": "python3"
  },
  "language_info": {
   "codemirror_mode": {
    "name": "ipython",
    "version": 3
   },
   "file_extension": ".py",
   "mimetype": "text/x-python",
   "name": "python",
   "nbconvert_exporter": "python",
   "pygments_lexer": "ipython3",
   "version": "3.9.12"
  }
 },
 "nbformat": 4,
 "nbformat_minor": 5
}
