{
 "cells": [
  {
   "cell_type": "code",
   "outputs": [],
   "source": [
    "import pandas as pd\n",
    "from matplotlib import pyplot as plt\n",
    "import numpy as np\n",
    "\n",
    "# 配置环境\n",
    "plt.style.use('seaborn-v0_8')  # 使用seaborn风格\n",
    "plt.rcParams['font.sans-serif'] = ['SimHei']  # 使用黑体\n",
    "plt.rcParams['axes.unicode_minus'] = False  # 解决负号显示问题\n",
    "# inline嵌入文件，tk弹出画图窗口\n",
    "%matplotlib tk"
   ],
   "metadata": {
    "collapsed": false,
    "ExecuteTime": {
     "end_time": "2024-03-27T13:04:18.078555Z",
     "start_time": "2024-03-27T13:04:18.072796Z"
    }
   },
   "id": "4486f64fa9bf7664",
   "execution_count": 179
  },
  {
   "cell_type": "code",
   "outputs": [],
   "source": [
    "# 读取文件信息\n",
    "df = pd.read_csv('请输入你的文件地址')\n",
    "columns = df.columns\n",
    "# 类别\n",
    "film_type = []\n",
    "for item in df[columns[4]]:\n",
    "    for data in eval(item):\n",
    "        film_type.append(data)\n",
    "\n",
    "# 国家\n",
    "country = []\n",
    "for item in df[columns[5]]:\n",
    "    for data in eval(item):\n",
    "        country.append(data)\n",
    "\n",
    "# 时间\n",
    "time = [int(data.split('-')[0]) for data in df[columns[6]]]\n",
    "# 评价人数\n",
    "vote_count = [int(data) for data in df[columns[7]]]\n",
    "# 演员人数\n",
    "actor_count = [int(data) for data in df[columns[-2]]]"
   ],
   "metadata": {
    "collapsed": false,
    "ExecuteTime": {
     "end_time": "2024-03-27T13:04:18.951200Z",
     "start_time": "2024-03-27T13:04:18.939416Z"
    }
   },
   "id": "aaa06f10a06b7f46",
   "execution_count": 180
  },
  {
   "cell_type": "code",
   "outputs": [],
   "source": [],
   "metadata": {
    "collapsed": false,
    "ExecuteTime": {
     "end_time": "2024-03-27T13:04:25.235596Z",
     "start_time": "2024-03-27T13:04:25.233082Z"
    }
   },
   "id": "fa875d7214666c7f",
   "execution_count": 180
  },
  {
   "cell_type": "code",
   "outputs": [],
   "source": [
    "# 散点图\n",
    "colors = np.array(actor_count) / 100  # 随机生成颜色值\n",
    "plt.scatter(time, vote_count, c=colors, alpha=0.5, edgecolors='black', cmap='viridis')\n",
    "plt.colorbar(label='演员人数')\n",
    "plt.xlabel('时间')\n",
    "plt.ylabel('评价人数')\n",
    "plt.title('三维散点图');"
   ],
   "metadata": {
    "collapsed": false,
    "ExecuteTime": {
     "end_time": "2024-03-27T13:04:26.259851Z",
     "start_time": "2024-03-27T13:04:26.173360Z"
    }
   },
   "id": "f278dc21aa0cecd7",
   "execution_count": 181
  },
  {
   "cell_type": "code",
   "outputs": [],
   "source": [],
   "metadata": {
    "collapsed": false
   },
   "id": "9e551b45f33ca345"
  },
  {
   "cell_type": "code",
   "outputs": [],
   "source": [
    "# 条形图\n",
    "dict_type = {i: film_type.count(i) for i in film_type}\n",
    "count_type = list(dict_type.values())\n",
    "name_type = list(dict_type.keys())\n",
    "\n",
    "plt.bar(name_type, count_type)\n",
    "plt.xlabel('类型')\n",
    "plt.ylabel('数量')\n",
    "plt.title('类型与数量的条形图');"
   ],
   "metadata": {
    "collapsed": false,
    "ExecuteTime": {
     "end_time": "2024-03-27T13:04:30.975217Z",
     "start_time": "2024-03-27T13:04:30.891830Z"
    }
   },
   "id": "5c88b77964f06a8",
   "execution_count": 182
  },
  {
   "cell_type": "code",
   "outputs": [],
   "source": [
    "# 条形图\n",
    "dict_country = {i: country.count(i) for i in country}\n",
    "count_type = list(dict_country.values())\n",
    "name_type = list(dict_country.keys())\n",
    "\n",
    "plt.bar(name_type, count_type)\n",
    "plt.xlabel('国家')\n",
    "plt.xticks(rotation=45)\n",
    "plt.ylabel('数量')\n",
    "plt.title('国家与数量的条形图');"
   ],
   "metadata": {
    "collapsed": false,
    "ExecuteTime": {
     "end_time": "2024-03-27T13:04:36.813537Z",
     "start_time": "2024-03-27T13:04:36.719402Z"
    }
   },
   "id": "bec1b37efb2ebef5",
   "execution_count": 183
  },
  {
   "cell_type": "code",
   "outputs": [],
   "source": [],
   "metadata": {
    "collapsed": false
   },
   "id": "4c6adf5d11367ee7"
  }
 ],
 "metadata": {
  "kernelspec": {
   "display_name": "Python 3 (ipykernel)",
   "language": "python",
   "name": "python3"
  },
  "language_info": {
   "codemirror_mode": {
    "name": "ipython",
    "version": 3
   },
   "file_extension": ".py",
   "mimetype": "text/x-python",
   "name": "python",
   "nbconvert_exporter": "python",
   "pygments_lexer": "ipython3",
   "version": "3.9.12"
  }
 },
 "nbformat": 4,
 "nbformat_minor": 5
}
