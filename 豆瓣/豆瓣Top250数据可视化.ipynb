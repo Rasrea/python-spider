{
 "cells": [
  {
   "cell_type": "code",
   "execution_count": 12,
   "id": "e3714612",
   "metadata": {
    "ExecuteTime": {
     "end_time": "2024-03-28T06:27:52.305651Z",
     "start_time": "2024-03-28T06:27:52.293598Z"
    }
   },
   "outputs": [],
   "source": [
    "import matplotlib.pyplot as plt\n",
    "import numpy as np\n",
    "import pandas as pd\n",
    "\n",
    "# 配置环境\n",
    "plt.style.use('seaborn-v0_8')  # 使用seaborn风格\n",
    "plt.rcParams['font.sans-serif'] = ['SimHei']  # 使用黑体\n",
    "plt.rcParams['axes.unicode_minus'] = False  # 解决负号显示问题\n",
    "# inline嵌入文件，tk弹出画图窗口\n",
    "%matplotlib tk\n",
    "\n",
    "# 读取文件\n",
    "file_path = \"D:\\Study\\Python\\数据可视化\\data\\Top250_film.csv\"\n",
    "df = pd.read_csv(file_path)\n",
    "columns = df.columns\n",
    "\n",
    "# 分类文件信息\n",
    "rank_film = [int(i) for i in list(df['排名'])]\n",
    "director_film = list(df['导演'])  # str，导演\n",
    "name_film = list(df['电影'])  # str，电影\n",
    "time_film = [int(i) for i in list(df['时间'])]  # int， 上映时间\n",
    "people_film = [int(i) for i in list(df['评价人数（人）'])]  # int 评价人数\n",
    "score_film = [float(i) for i in list(df['评分'])]  # float，评分\n",
    "country_film = []  # str 国家，按空格将一个分解成多个\n",
    "for i in list(df['国家']):\n",
    "    for j in i.split():\n",
    "        country_film.append(j)\n",
    "type_film = [] # str 类型，同上\n",
    "for i in list(df['类型']):\n",
    "    for j in i.split():\n",
    "        type_film.append(j)"
   ]
  },
  {
   "cell_type": "code",
   "execution_count": 13,
   "id": "5004cd81",
   "metadata": {
    "ExecuteTime": {
     "end_time": "2024-03-28T06:27:52.925555Z",
     "start_time": "2024-03-28T06:27:52.920895Z"
    }
   },
   "outputs": [],
   "source": [
    "# 优化 二维 图形界面，标签大小，布局\n",
    "def picture_design(ax, label_lst):\n",
    "    # 调整标签字体 大小 和 位置\n",
    "    for i, single_ax in enumerate(ax):\n",
    "        single_ax.set_xlabel(label_lst[i][0], fontsize=12)  # 设置 横坐标 标签字体大小\n",
    "        single_ax.set_ylabel(label_lst[i][1], fontsize=12)  # 设置 纵坐标 标签字体大小\n",
    "        single_ax.set_title(label_lst[i][2], fontsize=14)  # 设置 标题 字体大小\n",
    "\n",
    "    plt.tight_layout()  # 自动调整子图布局，减少 重叠\n",
    "    plt.subplots_adjust(hspace=0.6)  # 调整子图之间的 间距"
   ]
  },
  {
   "cell_type": "code",
   "execution_count": 9,
   "id": "4fd5c8ba",
   "metadata": {
    "collapsed": true,
    "ExecuteTime": {
     "end_time": "2024-03-28T06:25:19.213301Z",
     "start_time": "2024-03-28T06:25:19.079005Z"
    }
   },
   "outputs": [],
   "source": [
    "## 散点图\n",
    "fig, ax = plt.subplots(3, figsize=(12, 9))  # 设置图形 长度 和 宽度\n",
    "\n",
    "# 定义并整合 标签 和 数据\n",
    "scatter_lst1 = ['上映时间', '排名', '电影上映时间与排名的关系']\n",
    "scatter_lst2 = ['排名', '评价人数（百万）', '电影排名与评价人数的关系']\n",
    "scatter_lst3 = ['评价人数（百万）', '上映时间', '电影评价人数与上映时间的关系']\n",
    "\n",
    "scatter_lst = [scatter_lst1, scatter_lst2, scatter_lst3]\n",
    "data_lst = [time_film, rank_film, people_film]\n",
    "\n",
    "# 设置数据索引,[[0, 1], [1, 2], [2, 0]]\n",
    "index_data = [[i, (i+1)%len(data_lst)] for i in range(len(data_lst))]  # 存储 索引\n",
    "\n",
    "# 依次画出三个子图，上映时间 与 排名，排名 与 评价人数，评价人数 与 上映时间\n",
    "for i, item in enumerate(index_data):\n",
    "    ax[i].plot(data_lst[item[0]], data_lst[item[1]], '+') \n",
    "\n",
    "# 优化图形界面\n",
    "picture_design(ax, scatter_lst)\n",
    "\n",
    "# 保存到指定位置\n",
    "# fig.savefig('d:\\desktop\\豆瓣电影Top250数据散点图')\n"
   ]
  },
  {
   "cell_type": "code",
   "execution_count": 11,
   "id": "c272aa2a",
   "metadata": {
    "collapsed": true,
    "ExecuteTime": {
     "end_time": "2024-03-28T06:26:02.397538Z",
     "start_time": "2024-03-28T06:26:02.221549Z"
    }
   },
   "outputs": [],
   "source": [
    "## 直方图\n",
    "fig, ax = plt.subplots(3, figsize=(14, 9))  # 设置图的 宽度 和 高度\n",
    "\n",
    "# 定义并整合 标签 和 数据\n",
    "hist_lst1 = ['类别', '占比', '电影类别频次分布直方图']\n",
    "hist_lst2 = ['国家', '占比', '电影国家频次分布直方图']\n",
    "hist_lst3 = ['评分', '个数', '电影评分频次分布直方图']\n",
    "hist_lst = [hist_lst1, hist_lst2, hist_lst3]\n",
    "data_lst = [type_film, country_film, score_film]\n",
    "\n",
    "# 依次画出三个子图，包括 类别，国家，评分\n",
    "for i, item in enumerate(data_lst):\n",
    "    density_value = True if i != 2 else False  # 区分 评分 子图\n",
    "    ax[i].hist(item, bins=70, density=density_value, alpha=1,\n",
    "               histtype='stepfilled', color='steelblue',\n",
    "               edgecolor='none')\n",
    "    # 旋转子图中的横坐标的 角度\n",
    "    for tick in ax[i].get_xticklabels():\n",
    "        tick.set_rotation(45)\n",
    "\n",
    "# 优化图形界面\n",
    "picture_design(ax, hist_lst)\n",
    "\n",
    "# 保存到指定位置\n",
    "# fig.savefig('d:\\desktop\\豆瓣电影Top250数据直方图.png')"
   ]
  },
  {
   "cell_type": "code",
   "execution_count": null,
   "id": "1cd7860e",
   "metadata": {},
   "outputs": [],
   "source": []
  }
 ],
 "metadata": {
  "kernelspec": {
   "display_name": "Python 3 (ipykernel)",
   "language": "python",
   "name": "python3"
  },
  "language_info": {
   "codemirror_mode": {
    "name": "ipython",
    "version": 3
   },
   "file_extension": ".py",
   "mimetype": "text/x-python",
   "name": "python",
   "nbconvert_exporter": "python",
   "pygments_lexer": "ipython3",
   "version": "3.9.12"
  }
 },
 "nbformat": 4,
 "nbformat_minor": 5
}
