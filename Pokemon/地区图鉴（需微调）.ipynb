{
 "cells": [
  {
   "metadata": {
    "ExecuteTime": {
     "end_time": "2024-08-07T02:11:15.083581Z",
     "start_time": "2024-08-07T02:11:14.482697Z"
    }
   },
   "cell_type": "code",
   "source": [
    "import pandas as pd\n",
    "import requests\n",
    "import re\n",
    "from tqdm import tqdm\n",
    "from bs4 import BeautifulSoup"
   ],
   "id": "f733b17513cd64d9",
   "outputs": [],
   "execution_count": 1
  },
  {
   "metadata": {
    "ExecuteTime": {
     "end_time": "2024-08-07T02:41:03.663087Z",
     "start_time": "2024-08-07T02:41:03.161992Z"
    }
   },
   "cell_type": "code",
   "source": [
    "# 地区图鉴网址\n",
    "original_url = 'https://wiki.52poke.com/wiki/%E5%AE%9D%E5%8F%AF%E6%A2%A6%E5%88%97%E8%A1%A8%EF%BC%88%E6%8C%89%E8%93%9D%E8%8E%93%E5%9B%BE%E9%89%B4%E7%BC%96%E5%8F%B7%EF%BC%89'\n",
    "headers = {\n",
    "    'User-Agent': 'Mozilla/5.0 (Windows NT 10.0; Win64; x64) AppleWebKit/537.36 (KHTML, like Gecko) Chrome/127.0.0.0 Safari/537.36'\n",
    "}\n",
    "html = requests.get(original_url, headers=headers).text"
   ],
   "id": "3cc16a614ac81208",
   "outputs": [],
   "execution_count": 40
  },
  {
   "metadata": {
    "ExecuteTime": {
     "end_time": "2024-08-07T02:41:07.441712Z",
     "start_time": "2024-08-07T02:41:07.409962Z"
    }
   },
   "cell_type": "code",
   "source": [
    "# 获取信息列表\n",
    "all_data = re.findall(r'<tr>(.*?<td>.*?</td>.*?<td>.*?</td>)</tr>', html, re.S)[1:]  # 去除第一个\n",
    "\n",
    "# 爬取名称\n",
    "name_lst = [re.findall(r'<td><a .*?title=\"(.*?)\">', item)[-1]\n",
    "            for item in all_data]\n",
    "\n",
    "# 爬取编码信息（待转换）\n",
    "numbers = [re.findall(r'<td>(#.*?)</td>', item, re.S) for item in all_data]\n",
    "# 部分pokemon无旧地区编号，以空填充\n",
    "# numbers = [item if len(item) != 2 else [''] + item for item in numbers]\n",
    "\n",
    "# 爬取详细网址\n",
    "url_lst = ['https://wiki.52poke.com/' +\n",
    "           re.search(fr'<a href=\"(.*?)\".*?title=\"{item}\">.*?</a>', all_data[i]).group(1)\n",
    "           for i, item in enumerate(name_lst)]\n",
    "\n",
    "# 爬取属性(待转换)\n",
    "tem_attributes = [re.findall(r'<a href=.*?（属性）\">(.*?)</a>', item)\n",
    "                  for item in all_data]\n",
    "\n",
    "head_data = {\n",
    "    '全国编号': [item[1].replace('\\n', '') for item in numbers],\n",
    "    '地区编号': [item[0].replace('\\n', '') for item in numbers],\n",
    "    '名称': name_lst,\n",
    "    '属性': ['/'.join(item) for item in tem_attributes]\n",
    "}\n",
    "df = pd.DataFrame(head_data)"
   ],
   "id": "3599c4942dbc33fe",
   "outputs": [],
   "execution_count": 41
  },
  {
   "metadata": {
    "ExecuteTime": {
     "end_time": "2024-08-07T02:41:09.578219Z",
     "start_time": "2024-08-07T02:41:09.571738Z"
    }
   },
   "cell_type": "code",
   "source": "df",
   "id": "aaf14ca5ee5b39c6",
   "outputs": [
    {
     "data": {
      "text/plain": [
       "      全国编号  地区编号     名称      属性\n",
       "0    #0084  #001     嘟嘟   一般/飞行\n",
       "1    #0085  #002    嘟嘟利   一般/飞行\n",
       "2    #0102  #003     蛋蛋   草/超能力\n",
       "3    #0103  #004    椰蛋树     草/龙\n",
       "4    #0111  #005   独角犀牛   地面/岩石\n",
       "..     ...   ...    ...     ...\n",
       "238  #1022  #239    铁磐岩  岩石/超能力\n",
       "239  #1024  #240  太乐巴戈斯      一般\n",
       "240  #1009  #241    波荡水     水/龙\n",
       "241  #1010  #242    铁斑叶   草/超能力\n",
       "242  #1025  #243    桃歹郎    毒/幽灵\n",
       "\n",
       "[243 rows x 4 columns]"
      ],
      "text/html": [
       "<div>\n",
       "<style scoped>\n",
       "    .dataframe tbody tr th:only-of-type {\n",
       "        vertical-align: middle;\n",
       "    }\n",
       "\n",
       "    .dataframe tbody tr th {\n",
       "        vertical-align: top;\n",
       "    }\n",
       "\n",
       "    .dataframe thead th {\n",
       "        text-align: right;\n",
       "    }\n",
       "</style>\n",
       "<table border=\"1\" class=\"dataframe\">\n",
       "  <thead>\n",
       "    <tr style=\"text-align: right;\">\n",
       "      <th></th>\n",
       "      <th>全国编号</th>\n",
       "      <th>地区编号</th>\n",
       "      <th>名称</th>\n",
       "      <th>属性</th>\n",
       "    </tr>\n",
       "  </thead>\n",
       "  <tbody>\n",
       "    <tr>\n",
       "      <th>0</th>\n",
       "      <td>#0084</td>\n",
       "      <td>#001</td>\n",
       "      <td>嘟嘟</td>\n",
       "      <td>一般/飞行</td>\n",
       "    </tr>\n",
       "    <tr>\n",
       "      <th>1</th>\n",
       "      <td>#0085</td>\n",
       "      <td>#002</td>\n",
       "      <td>嘟嘟利</td>\n",
       "      <td>一般/飞行</td>\n",
       "    </tr>\n",
       "    <tr>\n",
       "      <th>2</th>\n",
       "      <td>#0102</td>\n",
       "      <td>#003</td>\n",
       "      <td>蛋蛋</td>\n",
       "      <td>草/超能力</td>\n",
       "    </tr>\n",
       "    <tr>\n",
       "      <th>3</th>\n",
       "      <td>#0103</td>\n",
       "      <td>#004</td>\n",
       "      <td>椰蛋树</td>\n",
       "      <td>草/龙</td>\n",
       "    </tr>\n",
       "    <tr>\n",
       "      <th>4</th>\n",
       "      <td>#0111</td>\n",
       "      <td>#005</td>\n",
       "      <td>独角犀牛</td>\n",
       "      <td>地面/岩石</td>\n",
       "    </tr>\n",
       "    <tr>\n",
       "      <th>...</th>\n",
       "      <td>...</td>\n",
       "      <td>...</td>\n",
       "      <td>...</td>\n",
       "      <td>...</td>\n",
       "    </tr>\n",
       "    <tr>\n",
       "      <th>238</th>\n",
       "      <td>#1022</td>\n",
       "      <td>#239</td>\n",
       "      <td>铁磐岩</td>\n",
       "      <td>岩石/超能力</td>\n",
       "    </tr>\n",
       "    <tr>\n",
       "      <th>239</th>\n",
       "      <td>#1024</td>\n",
       "      <td>#240</td>\n",
       "      <td>太乐巴戈斯</td>\n",
       "      <td>一般</td>\n",
       "    </tr>\n",
       "    <tr>\n",
       "      <th>240</th>\n",
       "      <td>#1009</td>\n",
       "      <td>#241</td>\n",
       "      <td>波荡水</td>\n",
       "      <td>水/龙</td>\n",
       "    </tr>\n",
       "    <tr>\n",
       "      <th>241</th>\n",
       "      <td>#1010</td>\n",
       "      <td>#242</td>\n",
       "      <td>铁斑叶</td>\n",
       "      <td>草/超能力</td>\n",
       "    </tr>\n",
       "    <tr>\n",
       "      <th>242</th>\n",
       "      <td>#1025</td>\n",
       "      <td>#243</td>\n",
       "      <td>桃歹郎</td>\n",
       "      <td>毒/幽灵</td>\n",
       "    </tr>\n",
       "  </tbody>\n",
       "</table>\n",
       "<p>243 rows × 4 columns</p>\n",
       "</div>"
      ]
     },
     "execution_count": 42,
     "metadata": {},
     "output_type": "execute_result"
    }
   ],
   "execution_count": 42
  },
  {
   "metadata": {
    "ExecuteTime": {
     "end_time": "2024-08-07T02:44:45.915325Z",
     "start_time": "2024-08-07T02:42:20.915939Z"
    }
   },
   "cell_type": "code",
   "source": [
    "# 爬取详细信息\n",
    "def scrape_data(poke_url):\n",
    "    poke_html = requests.get(poke_url, headers=headers).text\n",
    "\n",
    "    # 筛选特性（普通和隐藏）\n",
    "    character_text = re.search(r'>特性</a>(.*?)</tbody>', poke_html, re.S).group(1)  # 获取详细数据\n",
    "    all_character_lst = re.findall(r'<a.*?title=.*?（特性）\">(.*?)</a>', character_text)\n",
    "\n",
    "    # 找出隐藏特性，若没有则None\n",
    "    try:\n",
    "        hidden_character_lst = re.findall(r'（特性）.*?</td>.*?title=.*?（特性）\">(.*?)</a>.*?<small>', character_text, re.S)\n",
    "    except AttributeError:\n",
    "        hidden_character_lst = [None]\n",
    "\n",
    "    # Pokemon普通与隐藏特性\n",
    "    normal_character_lst = set(all_character_lst) - set(hidden_character_lst)  # 先移除隐藏特性\n",
    "    normal_character = '/'.join(normal_character_lst)  # 普通\n",
    "    hidden_character = '/'.join(hidden_character_lst)  # 隐藏\n",
    "\n",
    "    # 暂存Pokemon的信息\n",
    "    data = {\n",
    "        '普通特性': normal_character,\n",
    "        '隐藏特性': hidden_character,\n",
    "        '类别': re.search(r'>分类<.*?title=.*?>(.*?)</a>', poke_html, re.S).group(1).strip(),\n",
    "        '身高': re.search(r'>身高<.*?<td.*?>(.*?)</td>', poke_html, re.S).group(1).strip(),\n",
    "        '体重': re.search(r'>体重<.*?<td.*?>(.*?)</td>', poke_html, re.S).group(1).strip(),\n",
    "        '捕获率': re.search(r'>捕获率<.*?<td.*?>(.*?)<small>', poke_html, re.S).group(1).strip(),\n",
    "        # HP, 攻击, 防御, 特攻, 特防, 速度, 总和\n",
    "        '种族值': re.findall(r'<span style=\"float:right\">(.*?)</span>', poke_html)[:7]\n",
    "    }\n",
    "    return data\n",
    "\n",
    "\n",
    "# 爬取第二部分信息\n",
    "# scrape_data(url_lst[120])\n",
    "body_data = [scrape_data(url) for url in tqdm(url_lst)]"
   ],
   "id": "50277bec0c410eed",
   "outputs": [
    {
     "name": "stderr",
     "output_type": "stream",
     "text": [
      "100%|██████████| 243/243 [02:24<00:00,  1.68it/s]\n"
     ]
    }
   ],
   "execution_count": 43
  },
  {
   "metadata": {
    "ExecuteTime": {
     "end_time": "2024-08-07T02:46:26.108730Z",
     "start_time": "2024-08-07T02:46:26.088593Z"
    }
   },
   "cell_type": "code",
   "source": [
    "# 拼接数据\n",
    "poke_data = pd.concat([df, pd.DataFrame(body_data)], axis=1)\n",
    "\n",
    "# 保存为csv\n",
    "poke_data.to_csv(r'd:\\desktop\\帕底亚_蓝莓学院图鉴.csv', encoding='utf-8-sig', index=False)"
   ],
   "id": "1b8a2ccba6bd027b",
   "outputs": [],
   "execution_count": 44
  },
  {
   "metadata": {},
   "cell_type": "code",
   "outputs": [],
   "execution_count": null,
   "source": "",
   "id": "7f7c47ce7d0c5339"
  }
 ],
 "metadata": {
  "kernelspec": {
   "display_name": "Python 3 (ipykernel)",
   "language": "python",
   "name": "python3"
  },
  "language_info": {
   "codemirror_mode": {
    "name": "ipython",
    "version": 3
   },
   "file_extension": ".py",
   "mimetype": "text/x-python",
   "name": "python",
   "nbconvert_exporter": "python",
   "pygments_lexer": "ipython3",
   "version": "3.9.12"
  }
 },
 "nbformat": 4,
 "nbformat_minor": 5
}
