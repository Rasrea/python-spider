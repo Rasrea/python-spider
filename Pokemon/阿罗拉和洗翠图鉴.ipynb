{
 "cells": [
  {
   "metadata": {
    "ExecuteTime": {
     "end_time": "2024-08-06T09:14:28.008940Z",
     "start_time": "2024-08-06T09:14:27.497337Z"
    }
   },
   "cell_type": "code",
   "source": [
    "import pandas as pd\n",
    "import requests\n",
    "import re\n",
    "from tqdm import tqdm\n",
    "from bs4 import BeautifulSoup"
   ],
   "id": "f733b17513cd64d9",
   "outputs": [],
   "execution_count": 2
  },
  {
   "metadata": {
    "ExecuteTime": {
     "end_time": "2024-08-06T09:38:39.678221Z",
     "start_time": "2024-08-06T09:38:39.124167Z"
    }
   },
   "cell_type": "code",
   "source": [
    "# 地区图鉴网址\n",
    "original_url = 'https://wiki.52poke.com/wiki/%E5%AE%9D%E5%8F%AF%E6%A2%A6%E5%88%97%E8%A1%A8%EF%BC%88%E6%8C%89%E6%B4%97%E7%BF%A0%E5%9B%BE%E9%89%B4%E7%BC%96%E5%8F%B7%EF%BC%89'\n",
    "headers = {\n",
    "    'User-Agent': 'Mozilla/5.0 (Windows NT 10.0; Win64; x64) AppleWebKit/537.36 (KHTML, like Gecko) Chrome/127.0.0.0 Safari/537.36'\n",
    "}\n",
    "html = requests.get(original_url, headers=headers).text"
   ],
   "id": "3cc16a614ac81208",
   "outputs": [],
   "execution_count": 36
  },
  {
   "metadata": {
    "ExecuteTime": {
     "end_time": "2024-08-06T09:41:32.670388Z",
     "start_time": "2024-08-06T09:41:32.658550Z"
    }
   },
   "cell_type": "code",
   "source": [
    "# 获取信息列表\n",
    "# all_data = re.findall(r'<tr>(.*?<td>.*?</td>.*?<td>.*?</td>)</tr>', html, re.S)[3:][-403:]  # 阿罗拉\n",
    "all_data = re.findall(r'<tr>(.*?<td>.*?</td>.*?<td>.*?</td>)</tr>', html, re.S)[1:][:245]# 阿罗拉\n",
    "\n",
    "# 爬取名称\n",
    "name_lst = [re.findall(r'<td><a .*?title=\"(.*?)\">', item)[-1]\n",
    "            for item in all_data]\n",
    "\n",
    "# 爬取编码信息（待转换）\n",
    "numbers = [re.findall(r'<td>(#.*?)</td>', item, re.S) for item in all_data]\n",
    "\n",
    "# 爬取属性(待转换)\n",
    "tem_attributes = [re.findall(r'<a href=.*?（属性）\">(.*?)</a>', item)\n",
    "                  for item in all_data]\n",
    "\n",
    "# 爬取详细网址\n",
    "url_lst = ['https://wiki.52poke.com/' +\n",
    "           re.search(fr'<a href=\"(.*?)\".*?title=\"{item}\">.*?</a>', all_data[i]).group(1)\n",
    "           for i, item in enumerate(name_lst)]\n",
    "\n",
    "# 转化为DataFrame类型\n",
    "head_data = {\n",
    "    '全国编号': [item[1].replace('\\n', '') for item in numbers],\n",
    "    '地区编号': [item[0].replace('\\n', '') for item in numbers],\n",
    "    '名称': name_lst,\n",
    "    '属性': ['/'.join(item) for item in tem_attributes]\n",
    "}\n",
    "df = pd.DataFrame(head_data)"
   ],
   "id": "3599c4942dbc33fe",
   "outputs": [],
   "execution_count": 50
  },
  {
   "metadata": {
    "ExecuteTime": {
     "end_time": "2024-08-06T09:41:33.336325Z",
     "start_time": "2024-08-06T09:41:33.327517Z"
    }
   },
   "cell_type": "code",
   "source": "df",
   "id": "aaf14ca5ee5b39c6",
   "outputs": [
    {
     "data": {
      "text/plain": [
       "      全国编号  地区编号    名称    属性\n",
       "0    #0722  #001   木木枭  草/飞行\n",
       "1    #0723  #002   投羽枭  草/飞行\n",
       "2    #0724  #003  狙射树枭  草/格斗\n",
       "3    #0155  #004   火球鼠     火\n",
       "4    #0156  #005   火岩鼠     火\n",
       "..     ...   ...   ...   ...\n",
       "240  #0493  #238  阿尔宙斯    一般\n",
       "241  #0489  #239   霏欧纳     水\n",
       "242  #0490  #240   玛纳霏     水\n",
       "243  #0492  #241    谢米     草\n",
       "244  #0491  #242  达克莱伊     恶\n",
       "\n",
       "[245 rows x 4 columns]"
      ],
      "text/html": [
       "<div>\n",
       "<style scoped>\n",
       "    .dataframe tbody tr th:only-of-type {\n",
       "        vertical-align: middle;\n",
       "    }\n",
       "\n",
       "    .dataframe tbody tr th {\n",
       "        vertical-align: top;\n",
       "    }\n",
       "\n",
       "    .dataframe thead th {\n",
       "        text-align: right;\n",
       "    }\n",
       "</style>\n",
       "<table border=\"1\" class=\"dataframe\">\n",
       "  <thead>\n",
       "    <tr style=\"text-align: right;\">\n",
       "      <th></th>\n",
       "      <th>全国编号</th>\n",
       "      <th>地区编号</th>\n",
       "      <th>名称</th>\n",
       "      <th>属性</th>\n",
       "    </tr>\n",
       "  </thead>\n",
       "  <tbody>\n",
       "    <tr>\n",
       "      <th>0</th>\n",
       "      <td>#0722</td>\n",
       "      <td>#001</td>\n",
       "      <td>木木枭</td>\n",
       "      <td>草/飞行</td>\n",
       "    </tr>\n",
       "    <tr>\n",
       "      <th>1</th>\n",
       "      <td>#0723</td>\n",
       "      <td>#002</td>\n",
       "      <td>投羽枭</td>\n",
       "      <td>草/飞行</td>\n",
       "    </tr>\n",
       "    <tr>\n",
       "      <th>2</th>\n",
       "      <td>#0724</td>\n",
       "      <td>#003</td>\n",
       "      <td>狙射树枭</td>\n",
       "      <td>草/格斗</td>\n",
       "    </tr>\n",
       "    <tr>\n",
       "      <th>3</th>\n",
       "      <td>#0155</td>\n",
       "      <td>#004</td>\n",
       "      <td>火球鼠</td>\n",
       "      <td>火</td>\n",
       "    </tr>\n",
       "    <tr>\n",
       "      <th>4</th>\n",
       "      <td>#0156</td>\n",
       "      <td>#005</td>\n",
       "      <td>火岩鼠</td>\n",
       "      <td>火</td>\n",
       "    </tr>\n",
       "    <tr>\n",
       "      <th>...</th>\n",
       "      <td>...</td>\n",
       "      <td>...</td>\n",
       "      <td>...</td>\n",
       "      <td>...</td>\n",
       "    </tr>\n",
       "    <tr>\n",
       "      <th>240</th>\n",
       "      <td>#0493</td>\n",
       "      <td>#238</td>\n",
       "      <td>阿尔宙斯</td>\n",
       "      <td>一般</td>\n",
       "    </tr>\n",
       "    <tr>\n",
       "      <th>241</th>\n",
       "      <td>#0489</td>\n",
       "      <td>#239</td>\n",
       "      <td>霏欧纳</td>\n",
       "      <td>水</td>\n",
       "    </tr>\n",
       "    <tr>\n",
       "      <th>242</th>\n",
       "      <td>#0490</td>\n",
       "      <td>#240</td>\n",
       "      <td>玛纳霏</td>\n",
       "      <td>水</td>\n",
       "    </tr>\n",
       "    <tr>\n",
       "      <th>243</th>\n",
       "      <td>#0492</td>\n",
       "      <td>#241</td>\n",
       "      <td>谢米</td>\n",
       "      <td>草</td>\n",
       "    </tr>\n",
       "    <tr>\n",
       "      <th>244</th>\n",
       "      <td>#0491</td>\n",
       "      <td>#242</td>\n",
       "      <td>达克莱伊</td>\n",
       "      <td>恶</td>\n",
       "    </tr>\n",
       "  </tbody>\n",
       "</table>\n",
       "<p>245 rows × 4 columns</p>\n",
       "</div>"
      ]
     },
     "execution_count": 51,
     "metadata": {},
     "output_type": "execute_result"
    }
   ],
   "execution_count": 51
  },
  {
   "metadata": {
    "ExecuteTime": {
     "end_time": "2024-08-06T09:44:36.903922Z",
     "start_time": "2024-08-06T09:42:02.489315Z"
    }
   },
   "cell_type": "code",
   "source": [
    "# 爬取详细信息\n",
    "def scrape_data(poke_url):\n",
    "    poke_html = requests.get(poke_url, headers=headers).text\n",
    "\n",
    "    # 筛选特性（普通和隐藏）\n",
    "    character_text = re.search(r'>特性</a>(.*?)</tbody>', poke_html, re.S).group(1)  # 获取详细数据\n",
    "    all_character_lst = re.findall(r'<a.*?title=.*?（特性）\">(.*?)</a>', character_text)\n",
    "\n",
    "    # 找出隐藏特性，若没有则None\n",
    "    try:\n",
    "        hidden_character_lst = re.findall(r'（特性）.*?</td>.*?title=.*?（特性）\">(.*?)</a>.*?<small>', character_text, re.S)\n",
    "    except AttributeError:\n",
    "        hidden_character_lst = [None]\n",
    "\n",
    "    # Pokemon普通与隐藏特性\n",
    "    normal_character_lst = set(all_character_lst) - set(hidden_character_lst)  # 先移除隐藏特性\n",
    "    normal_character = '/'.join(normal_character_lst)  # 普通\n",
    "    hidden_character = '/'.join(hidden_character_lst)  # 隐藏\n",
    "\n",
    "    # 暂存Pokemon的信息\n",
    "    data = {\n",
    "        '普通特性': normal_character,\n",
    "        '隐藏特性': hidden_character,\n",
    "        '类别': re.search(r'>分类<.*?title=.*?>(.*?)</a>', poke_html, re.S).group(1).strip(),\n",
    "        '身高': re.search(r'>身高<.*?<td.*?>(.*?)</td>', poke_html, re.S).group(1).strip(),\n",
    "        '体重': re.search(r'>体重<.*?<td.*?>(.*?)</td>', poke_html, re.S).group(1).strip(),\n",
    "        '捕获率': re.search(r'>捕获率<.*?<td.*?>(.*?)<small>', poke_html, re.S).group(1).strip(),\n",
    "        # HP, 攻击, 防御, 特攻, 特防, 速度, 总和\n",
    "        '种族值': re.findall(r'<span style=\"float:right\">(.*?)</span>', poke_html)[:7]\n",
    "    }\n",
    "    return data\n",
    "\n",
    "\n",
    "# 爬取第二部分信息\n",
    "# scrape_data(url_lst[200])\n",
    "body_data = [scrape_data(url) for url in tqdm(url_lst)]"
   ],
   "id": "50277bec0c410eed",
   "outputs": [
    {
     "name": "stderr",
     "output_type": "stream",
     "text": [
      "100%|██████████| 245/245 [02:34<00:00,  1.59it/s]\n"
     ]
    }
   ],
   "execution_count": 54
  },
  {
   "metadata": {
    "ExecuteTime": {
     "end_time": "2024-08-06T09:45:11.936667Z",
     "start_time": "2024-08-06T09:45:11.929160Z"
    }
   },
   "cell_type": "code",
   "source": [
    "# 拼接数据\n",
    "poke_data = pd.concat([pd.DataFrame(head_data), pd.DataFrame(body_data)], axis=1)\n",
    "\n",
    "# 保存为csv\n",
    "poke_data.to_csv(r'd:\\desktop\\洗翠图鉴.csv', encoding='utf-8-sig', index=False)"
   ],
   "id": "1b8a2ccba6bd027b",
   "outputs": [],
   "execution_count": 55
  },
  {
   "metadata": {},
   "cell_type": "code",
   "outputs": [],
   "execution_count": null,
   "source": "",
   "id": "7f7c47ce7d0c5339"
  }
 ],
 "metadata": {
  "kernelspec": {
   "display_name": "Python 3 (ipykernel)",
   "language": "python",
   "name": "python3"
  },
  "language_info": {
   "codemirror_mode": {
    "name": "ipython",
    "version": 3
   },
   "file_extension": ".py",
   "mimetype": "text/x-python",
   "name": "python",
   "nbconvert_exporter": "python",
   "pygments_lexer": "ipython3",
   "version": "3.9.12"
  }
 },
 "nbformat": 4,
 "nbformat_minor": 5
}
