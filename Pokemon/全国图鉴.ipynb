{
 "cells": [
  {
   "metadata": {
    "ExecuteTime": {
     "end_time": "2024-08-07T02:46:48.466412Z",
     "start_time": "2024-08-07T02:46:48.458846Z"
    }
   },
   "cell_type": "code",
   "source": [
    "import os\n",
    "import pandas as pd"
   ],
   "id": "4057886a021af878",
   "outputs": [],
   "execution_count": 27
  },
  {
   "metadata": {
    "ExecuteTime": {
     "end_time": "2024-08-07T02:46:49.413463Z",
     "start_time": "2024-08-07T02:46:49.407920Z"
    }
   },
   "cell_type": "code",
   "source": [
    "def list_files_in_directory(directory_path):\n",
    "    file_paths = []\n",
    "    for root, dirs, files in os.walk(directory_path):\n",
    "        for file in files:\n",
    "            file_paths.append(os.path.join(root, file))\n",
    "    return file_paths\n",
    "\n",
    "# 目标文件夹\n",
    "directory_path = \"D:\\Study\\Python\\DataVisualization\\datasets\\Pokemon\\地区图鉴\"\n",
    "all_files = list_files_in_directory(directory_path)"
   ],
   "id": "834184ebc14f171e",
   "outputs": [],
   "execution_count": 28
  },
  {
   "metadata": {
    "ExecuteTime": {
     "end_time": "2024-08-07T02:46:52.438377Z",
     "start_time": "2024-08-07T02:46:52.390190Z"
    }
   },
   "cell_type": "code",
   "source": [
    "# 读取csv\n",
    "df_lst = [pd.read_csv(path)[['全国编号', '名称', '属性', '普通特性', '隐藏特性', '类别', '身高',\n",
    "                             '体重', '捕获率', '种族值']] \n",
    "          for path in all_files]\n",
    "\n",
    "# 去除编号中的\"#\"\n",
    "for df in df_lst:\n",
    "    df['全国编号'] = df['全国编号'].str.replace('#', '').astype(int)"
   ],
   "id": "b9228267f2f117e3",
   "outputs": [],
   "execution_count": 29
  },
  {
   "metadata": {
    "ExecuteTime": {
     "end_time": "2024-08-07T02:48:20.674920Z",
     "start_time": "2024-08-07T02:48:20.655985Z"
    }
   },
   "cell_type": "code",
   "source": [
    "# 合并数据并去重\n",
    "merged_df = pd.concat(df_lst, ignore_index=True)\n",
    "pokemon_df = merged_df.drop_duplicates(subset=['全国编号']).sort_values(by='全国编号', ignore_index=True)\n",
    "pokemon_df.to_csv(r'd:\\desktop\\全国图鉴.csv', index=False, encoding='utf-8-sig')"
   ],
   "id": "7c7c9951e9df0241",
   "outputs": [],
   "execution_count": 32
  },
  {
   "metadata": {},
   "cell_type": "code",
   "outputs": [],
   "execution_count": null,
   "source": "",
   "id": "34e040ef63be9104"
  }
 ],
 "metadata": {
  "kernelspec": {
   "display_name": "Python 3 (ipykernel)",
   "language": "python",
   "name": "python3"
  },
  "language_info": {
   "codemirror_mode": {
    "name": "ipython",
    "version": 3
   },
   "file_extension": ".py",
   "mimetype": "text/x-python",
   "name": "python",
   "nbconvert_exporter": "python",
   "pygments_lexer": "ipython3",
   "version": "3.9.12"
  }
 },
 "nbformat": 4,
 "nbformat_minor": 5
}
