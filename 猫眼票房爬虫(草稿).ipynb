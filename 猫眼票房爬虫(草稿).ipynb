{
 "cells": [
  {
   "cell_type": "code",
   "execution_count": 2,
   "id": "7369e530",
   "metadata": {
    "scrolled": true
   },
   "outputs": [
    {
     "name": "stdout",
     "output_type": "stream",
     "text": [
      "运行成功\n"
     ]
    }
   ],
   "source": [
    "import requests\n",
    "import csv\n",
    "\n",
    "url = \"https://piaofang.maoyan.com/dashboard-ajax?orderType=0&uuid=18b85dcbbb2c8-0f4100f92b7b62-745d5777-1bcab9-18b85dcbbb2c8&timeStamp=1700372473502&User-Agent=TW96aWxsYS81LjAgKFdpbmRvd3MgTlQgMTAuMDsgV2luNjQ7IHg2NCkgQXBwbGVXZWJLaXQvNTM3LjM2IChLSFRNTCwgbGlrZSBHZWNrbykgQ2hyb21lLzExOS4wLjAuMCBTYWZhcmkvNTM3LjM2IEVkZy8xMTkuMC4wLjA%3D&index=671&channelId=40009&sVersion=2&signKey=f579f7f000e0eb6e0765f19d77ad0055\"\n",
    "headers = {\n",
    "    \"User-Agent\":\"Mozilla/5.0 (Windows NT 10.0; Win64; x64) AppleWebKit/537.36 (KHTML, like Gecko) Chrome/119.0.0.0 Safari/537.36 Edg/119.0.0.0\"\n",
    "}\n",
    "url = quote(url, safe=':/?&=')  # 编码URL中的特殊字符\n",
    "lst_r = requests.get(url, headers = headers).json()['movieList']['data']['list']\n",
    "Name = []#电影片名\n",
    "Money = []#票房编码有问题\n",
    "BoxRate = []#票房占比,小于0.1按0计算\n",
    "ShowCount = []#排片场次\n",
    "ShowCountRate = []#排片占比，类似票房占比\n",
    "AvgShowView = []#场均人次，类似票房占比\n",
    "AvgSeatView = []#上座率，类似票房占比\n",
    "for data in lst_r:\n",
    "    Name.append(data['movieInfo']['movieName'])#电影名\n",
    "\n",
    "    Money.append(data['splitBoxSplitUnit']['num'])#票房\n",
    "    \n",
    "    if('<' in data['boxRate'].split('%')[0]):#票房占比\n",
    "        BoxRate.append(0)\n",
    "    else:\n",
    "        BoxRate.append(data['boxRate'].split('%')[0])\n",
    "        \n",
    "    ShowCount.append(data['showCount'])#排片场次\n",
    "    \n",
    "    if('<' in data['showCountRate'].split('%')[0]):#排片占比，同票房占比\n",
    "        ShowCountRate.append(0)\n",
    "    else:\n",
    "        ShowCountRate.append(data['showCountRate'].split('%')[0])\n",
    "        \n",
    "    if('<' in data['avgShowView']):#场均人次，同票房占比\n",
    "        AvgShowView.append(0)\n",
    "    else:\n",
    "        AvgShowView.append(data['avgShowView'])\n",
    "    if('-' in data['avgSeatView'].split('%')[0]):\n",
    "        AvgSeatView.append(0)\n",
    "    else:\n",
    "        AvgSeatView.append(data['avgSeatView'].split('%')[0])\n",
    "#使用'w'创建一个csv文件并命名为f\n",
    "with open(r\"D:\\Desktop\\猫眼票房.csv\", 'w', encoding='utf-8-sig', newline='') as f:\n",
    "    writer = csv.writer(f)\n",
    "    writer.writerow(['排名', '电影', '综合票房', '票房占比', '排片场次', '排片占比', '场均人次', '上座率'])\n",
    "    for i, (name, money, boxrate, showcount, showcountrate, avgshowview, avgseatview) in enumerate(zip(Name, Money, BoxRate, ShowCount, ShowCountRate, AvgShowView, AvgSeatView)):\n",
    "        writer.writerow([i+1, name, money, boxrate, showcount, showcountrate, avgshowview, avgseatview])\n",
    "print('运行成功')"
   ]
  },
  {
   "cell_type": "code",
   "execution_count": null,
   "id": "a2838795",
   "metadata": {},
   "outputs": [],
   "source": []
  }
 ],
 "metadata": {
  "kernelspec": {
   "display_name": "Python 3 (ipykernel)",
   "language": "python",
   "name": "python3"
  },
  "language_info": {
   "codemirror_mode": {
    "name": "ipython",
    "version": 3
   },
   "file_extension": ".py",
   "mimetype": "text/x-python",
   "name": "python",
   "nbconvert_exporter": "python",
   "pygments_lexer": "ipython3",
   "version": "3.9.12"
  }
 },
 "nbformat": 4,
 "nbformat_minor": 5
}
